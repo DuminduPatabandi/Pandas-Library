{
 "cells": [
  {
   "cell_type": "markdown",
   "id": "b058a832",
   "metadata": {
    "papermill": {
     "duration": 0.007375,
     "end_time": "2022-11-19T13:15:18.139175",
     "exception": false,
     "start_time": "2022-11-19T13:15:18.131800",
     "status": "completed"
    },
    "tags": []
   },
   "source": [
    "**This notebook is an exercise in the [Pandas](https://www.kaggle.com/learn/pandas) course.  You can reference the tutorial at [this link](https://www.kaggle.com/residentmario/summary-functions-and-maps).**\n",
    "\n",
    "---\n"
   ]
  },
  {
   "cell_type": "markdown",
   "id": "1ddc8718",
   "metadata": {
    "papermill": {
     "duration": 0.005777,
     "end_time": "2022-11-19T13:15:18.151203",
     "exception": false,
     "start_time": "2022-11-19T13:15:18.145426",
     "status": "completed"
    },
    "tags": []
   },
   "source": [
    "# Introduction\n",
    "\n",
    "Now you are ready to get a deeper understanding of your data.\n",
    "\n",
    "Run the following cell to load your data and some utility functions (including code to check your answers)."
   ]
  },
  {
   "cell_type": "code",
   "execution_count": 1,
   "id": "b8a909d9",
   "metadata": {
    "execution": {
     "iopub.execute_input": "2022-11-19T13:15:18.166561Z",
     "iopub.status.busy": "2022-11-19T13:15:18.165741Z",
     "iopub.status.idle": "2022-11-19T13:15:25.331260Z",
     "shell.execute_reply": "2022-11-19T13:15:25.328848Z"
    },
    "papermill": {
     "duration": 7.176123,
     "end_time": "2022-11-19T13:15:25.333939",
     "exception": false,
     "start_time": "2022-11-19T13:15:18.157816",
     "status": "completed"
    },
    "tags": []
   },
   "outputs": [
    {
     "name": "stdout",
     "output_type": "stream",
     "text": [
      "Setup complete.\n"
     ]
    },
    {
     "data": {
      "text/html": [
       "<div>\n",
       "<style scoped>\n",
       "    .dataframe tbody tr th:only-of-type {\n",
       "        vertical-align: middle;\n",
       "    }\n",
       "\n",
       "    .dataframe tbody tr th {\n",
       "        vertical-align: top;\n",
       "    }\n",
       "\n",
       "    .dataframe thead th {\n",
       "        text-align: right;\n",
       "    }\n",
       "</style>\n",
       "<table border=\"1\" class=\"dataframe\">\n",
       "  <thead>\n",
       "    <tr style=\"text-align: right;\">\n",
       "      <th></th>\n",
       "      <th>country</th>\n",
       "      <th>description</th>\n",
       "      <th>designation</th>\n",
       "      <th>points</th>\n",
       "      <th>price</th>\n",
       "      <th>province</th>\n",
       "      <th>region_1</th>\n",
       "      <th>region_2</th>\n",
       "      <th>taster_name</th>\n",
       "      <th>taster_twitter_handle</th>\n",
       "      <th>title</th>\n",
       "      <th>variety</th>\n",
       "      <th>winery</th>\n",
       "    </tr>\n",
       "  </thead>\n",
       "  <tbody>\n",
       "    <tr>\n",
       "      <th>0</th>\n",
       "      <td>Italy</td>\n",
       "      <td>Aromas include tropical fruit, broom, brimston...</td>\n",
       "      <td>Vulkà Bianco</td>\n",
       "      <td>87</td>\n",
       "      <td>NaN</td>\n",
       "      <td>Sicily &amp; Sardinia</td>\n",
       "      <td>Etna</td>\n",
       "      <td>NaN</td>\n",
       "      <td>Kerin O’Keefe</td>\n",
       "      <td>@kerinokeefe</td>\n",
       "      <td>Nicosia 2013 Vulkà Bianco  (Etna)</td>\n",
       "      <td>White Blend</td>\n",
       "      <td>Nicosia</td>\n",
       "    </tr>\n",
       "    <tr>\n",
       "      <th>1</th>\n",
       "      <td>Portugal</td>\n",
       "      <td>This is ripe and fruity, a wine that is smooth...</td>\n",
       "      <td>Avidagos</td>\n",
       "      <td>87</td>\n",
       "      <td>15.0</td>\n",
       "      <td>Douro</td>\n",
       "      <td>NaN</td>\n",
       "      <td>NaN</td>\n",
       "      <td>Roger Voss</td>\n",
       "      <td>@vossroger</td>\n",
       "      <td>Quinta dos Avidagos 2011 Avidagos Red (Douro)</td>\n",
       "      <td>Portuguese Red</td>\n",
       "      <td>Quinta dos Avidagos</td>\n",
       "    </tr>\n",
       "    <tr>\n",
       "      <th>2</th>\n",
       "      <td>US</td>\n",
       "      <td>Tart and snappy, the flavors of lime flesh and...</td>\n",
       "      <td>NaN</td>\n",
       "      <td>87</td>\n",
       "      <td>14.0</td>\n",
       "      <td>Oregon</td>\n",
       "      <td>Willamette Valley</td>\n",
       "      <td>Willamette Valley</td>\n",
       "      <td>Paul Gregutt</td>\n",
       "      <td>@paulgwine</td>\n",
       "      <td>Rainstorm 2013 Pinot Gris (Willamette Valley)</td>\n",
       "      <td>Pinot Gris</td>\n",
       "      <td>Rainstorm</td>\n",
       "    </tr>\n",
       "    <tr>\n",
       "      <th>3</th>\n",
       "      <td>US</td>\n",
       "      <td>Pineapple rind, lemon pith and orange blossom ...</td>\n",
       "      <td>Reserve Late Harvest</td>\n",
       "      <td>87</td>\n",
       "      <td>13.0</td>\n",
       "      <td>Michigan</td>\n",
       "      <td>Lake Michigan Shore</td>\n",
       "      <td>NaN</td>\n",
       "      <td>Alexander Peartree</td>\n",
       "      <td>NaN</td>\n",
       "      <td>St. Julian 2013 Reserve Late Harvest Riesling ...</td>\n",
       "      <td>Riesling</td>\n",
       "      <td>St. Julian</td>\n",
       "    </tr>\n",
       "    <tr>\n",
       "      <th>4</th>\n",
       "      <td>US</td>\n",
       "      <td>Much like the regular bottling from 2012, this...</td>\n",
       "      <td>Vintner's Reserve Wild Child Block</td>\n",
       "      <td>87</td>\n",
       "      <td>65.0</td>\n",
       "      <td>Oregon</td>\n",
       "      <td>Willamette Valley</td>\n",
       "      <td>Willamette Valley</td>\n",
       "      <td>Paul Gregutt</td>\n",
       "      <td>@paulgwine</td>\n",
       "      <td>Sweet Cheeks 2012 Vintner's Reserve Wild Child...</td>\n",
       "      <td>Pinot Noir</td>\n",
       "      <td>Sweet Cheeks</td>\n",
       "    </tr>\n",
       "  </tbody>\n",
       "</table>\n",
       "</div>"
      ],
      "text/plain": [
       "    country                                        description  \\\n",
       "0     Italy  Aromas include tropical fruit, broom, brimston...   \n",
       "1  Portugal  This is ripe and fruity, a wine that is smooth...   \n",
       "2        US  Tart and snappy, the flavors of lime flesh and...   \n",
       "3        US  Pineapple rind, lemon pith and orange blossom ...   \n",
       "4        US  Much like the regular bottling from 2012, this...   \n",
       "\n",
       "                          designation  points  price           province  \\\n",
       "0                        Vulkà Bianco      87    NaN  Sicily & Sardinia   \n",
       "1                            Avidagos      87   15.0              Douro   \n",
       "2                                 NaN      87   14.0             Oregon   \n",
       "3                Reserve Late Harvest      87   13.0           Michigan   \n",
       "4  Vintner's Reserve Wild Child Block      87   65.0             Oregon   \n",
       "\n",
       "              region_1           region_2         taster_name  \\\n",
       "0                 Etna                NaN       Kerin O’Keefe   \n",
       "1                  NaN                NaN          Roger Voss   \n",
       "2    Willamette Valley  Willamette Valley        Paul Gregutt   \n",
       "3  Lake Michigan Shore                NaN  Alexander Peartree   \n",
       "4    Willamette Valley  Willamette Valley        Paul Gregutt   \n",
       "\n",
       "  taster_twitter_handle                                              title  \\\n",
       "0          @kerinokeefe                  Nicosia 2013 Vulkà Bianco  (Etna)   \n",
       "1            @vossroger      Quinta dos Avidagos 2011 Avidagos Red (Douro)   \n",
       "2           @paulgwine       Rainstorm 2013 Pinot Gris (Willamette Valley)   \n",
       "3                   NaN  St. Julian 2013 Reserve Late Harvest Riesling ...   \n",
       "4           @paulgwine   Sweet Cheeks 2012 Vintner's Reserve Wild Child...   \n",
       "\n",
       "          variety               winery  \n",
       "0     White Blend              Nicosia  \n",
       "1  Portuguese Red  Quinta dos Avidagos  \n",
       "2      Pinot Gris            Rainstorm  \n",
       "3        Riesling           St. Julian  \n",
       "4      Pinot Noir         Sweet Cheeks  "
      ]
     },
     "execution_count": 1,
     "metadata": {},
     "output_type": "execute_result"
    }
   ],
   "source": [
    "import pandas as pd\n",
    "pd.set_option(\"display.max_rows\", 5)\n",
    "reviews = pd.read_csv(\"../input/wine-reviews/winemag-data-130k-v2.csv\", index_col=0)\n",
    "\n",
    "from learntools.core import binder; binder.bind(globals())\n",
    "from learntools.pandas.summary_functions_and_maps import *\n",
    "print(\"Setup complete.\")\n",
    "\n",
    "reviews.head()"
   ]
  },
  {
   "cell_type": "markdown",
   "id": "64f0d10f",
   "metadata": {
    "papermill": {
     "duration": 0.006329,
     "end_time": "2022-11-19T13:15:25.347247",
     "exception": false,
     "start_time": "2022-11-19T13:15:25.340918",
     "status": "completed"
    },
    "tags": []
   },
   "source": [
    "# Exercises"
   ]
  },
  {
   "cell_type": "markdown",
   "id": "0bb0119f",
   "metadata": {
    "papermill": {
     "duration": 0.006197,
     "end_time": "2022-11-19T13:15:25.359975",
     "exception": false,
     "start_time": "2022-11-19T13:15:25.353778",
     "status": "completed"
    },
    "tags": []
   },
   "source": [
    "## 1.\n",
    "\n",
    "What is the median of the `points` column in the `reviews` DataFrame?"
   ]
  },
  {
   "cell_type": "code",
   "execution_count": 2,
   "id": "bd4b5b0a",
   "metadata": {
    "execution": {
     "iopub.execute_input": "2022-11-19T13:15:25.375092Z",
     "iopub.status.busy": "2022-11-19T13:15:25.374206Z",
     "iopub.status.idle": "2022-11-19T13:15:25.386248Z",
     "shell.execute_reply": "2022-11-19T13:15:25.385122Z"
    },
    "papermill": {
     "duration": 0.022158,
     "end_time": "2022-11-19T13:15:25.388608",
     "exception": false,
     "start_time": "2022-11-19T13:15:25.366450",
     "status": "completed"
    },
    "tags": []
   },
   "outputs": [
    {
     "data": {
      "application/javascript": [
       "parent.postMessage({\"jupyterEvent\": \"custom.exercise_interaction\", \"data\": {\"outcomeType\": 1, \"valueTowardsCompletion\": 0.14285714285714285, \"interactionType\": 1, \"questionType\": 1, \"questionId\": \"1_MedianPoints\", \"learnToolsVersion\": \"0.3.4\", \"failureMessage\": \"\", \"exceptionClass\": \"\", \"trace\": \"\"}}, \"*\")"
      ],
      "text/plain": [
       "<IPython.core.display.Javascript object>"
      ]
     },
     "metadata": {},
     "output_type": "display_data"
    },
    {
     "data": {
      "text/markdown": [
       "<span style=\"color:#33cc33\">Correct</span>"
      ],
      "text/plain": [
       "Correct"
      ]
     },
     "metadata": {},
     "output_type": "display_data"
    }
   ],
   "source": [
    "median_points = reviews.points.median()\n",
    "\n",
    "# Check your answer\n",
    "q1.check()"
   ]
  },
  {
   "cell_type": "code",
   "execution_count": 3,
   "id": "d661e234",
   "metadata": {
    "execution": {
     "iopub.execute_input": "2022-11-19T13:15:25.404251Z",
     "iopub.status.busy": "2022-11-19T13:15:25.403850Z",
     "iopub.status.idle": "2022-11-19T13:15:25.408054Z",
     "shell.execute_reply": "2022-11-19T13:15:25.406865Z"
    },
    "papermill": {
     "duration": 0.014472,
     "end_time": "2022-11-19T13:15:25.410095",
     "exception": false,
     "start_time": "2022-11-19T13:15:25.395623",
     "status": "completed"
    },
    "tags": []
   },
   "outputs": [],
   "source": [
    "#q1.hint()\n",
    "#q1.solution()"
   ]
  },
  {
   "cell_type": "markdown",
   "id": "49254e63",
   "metadata": {
    "papermill": {
     "duration": 0.008137,
     "end_time": "2022-11-19T13:15:25.425021",
     "exception": false,
     "start_time": "2022-11-19T13:15:25.416884",
     "status": "completed"
    },
    "tags": []
   },
   "source": [
    "## 2. \n",
    "What countries are represented in the dataset? (Your answer should not include any duplicates.)"
   ]
  },
  {
   "cell_type": "code",
   "execution_count": 4,
   "id": "c0fcd885",
   "metadata": {
    "execution": {
     "iopub.execute_input": "2022-11-19T13:15:25.440437Z",
     "iopub.status.busy": "2022-11-19T13:15:25.439977Z",
     "iopub.status.idle": "2022-11-19T13:15:25.459080Z",
     "shell.execute_reply": "2022-11-19T13:15:25.457498Z"
    },
    "papermill": {
     "duration": 0.029702,
     "end_time": "2022-11-19T13:15:25.461525",
     "exception": false,
     "start_time": "2022-11-19T13:15:25.431823",
     "status": "completed"
    },
    "tags": []
   },
   "outputs": [
    {
     "name": "stdout",
     "output_type": "stream",
     "text": [
      "['Italy' 'Portugal' 'US' 'Spain' 'France' 'Germany' 'Argentina' 'Chile'\n",
      " 'Australia' 'Austria' 'South Africa' 'New Zealand' 'Israel' 'Hungary'\n",
      " 'Greece' 'Romania' 'Mexico' 'Canada' nan 'Turkey' 'Czech Republic'\n",
      " 'Slovenia' 'Luxembourg' 'Croatia' 'Georgia' 'Uruguay' 'England' 'Lebanon'\n",
      " 'Serbia' 'Brazil' 'Moldova' 'Morocco' 'Peru' 'India' 'Bulgaria' 'Cyprus'\n",
      " 'Armenia' 'Switzerland' 'Bosnia and Herzegovina' 'Ukraine' 'Slovakia'\n",
      " 'Macedonia' 'China' 'Egypt']\n"
     ]
    },
    {
     "data": {
      "application/javascript": [
       "parent.postMessage({\"jupyterEvent\": \"custom.exercise_interaction\", \"data\": {\"outcomeType\": 1, \"valueTowardsCompletion\": 0.14285714285714285, \"interactionType\": 1, \"questionType\": 2, \"questionId\": \"2_UniqueCountries\", \"learnToolsVersion\": \"0.3.4\", \"failureMessage\": \"\", \"exceptionClass\": \"\", \"trace\": \"\"}}, \"*\")"
      ],
      "text/plain": [
       "<IPython.core.display.Javascript object>"
      ]
     },
     "metadata": {},
     "output_type": "display_data"
    },
    {
     "data": {
      "text/markdown": [
       "<span style=\"color:#33cc33\">Correct</span>"
      ],
      "text/plain": [
       "Correct"
      ]
     },
     "metadata": {},
     "output_type": "display_data"
    }
   ],
   "source": [
    "countries = reviews.country.unique()\n",
    "print(countries)\n",
    "\n",
    "# Check your answer\n",
    "q2.check()"
   ]
  },
  {
   "cell_type": "code",
   "execution_count": 5,
   "id": "bd1c7b63",
   "metadata": {
    "execution": {
     "iopub.execute_input": "2022-11-19T13:15:25.477852Z",
     "iopub.status.busy": "2022-11-19T13:15:25.477423Z",
     "iopub.status.idle": "2022-11-19T13:15:25.481342Z",
     "shell.execute_reply": "2022-11-19T13:15:25.480421Z"
    },
    "papermill": {
     "duration": 0.01485,
     "end_time": "2022-11-19T13:15:25.483629",
     "exception": false,
     "start_time": "2022-11-19T13:15:25.468779",
     "status": "completed"
    },
    "tags": []
   },
   "outputs": [],
   "source": [
    "#q2.hint()\n",
    "#q2.solution()"
   ]
  },
  {
   "cell_type": "markdown",
   "id": "a833b75c",
   "metadata": {
    "papermill": {
     "duration": 0.006885,
     "end_time": "2022-11-19T13:15:25.497666",
     "exception": false,
     "start_time": "2022-11-19T13:15:25.490781",
     "status": "completed"
    },
    "tags": []
   },
   "source": [
    "## 3.\n",
    "How often does each country appear in the dataset? Create a Series `reviews_per_country` mapping countries to the count of reviews of wines from that country."
   ]
  },
  {
   "cell_type": "code",
   "execution_count": 6,
   "id": "dae75c7f",
   "metadata": {
    "execution": {
     "iopub.execute_input": "2022-11-19T13:15:25.514394Z",
     "iopub.status.busy": "2022-11-19T13:15:25.513925Z",
     "iopub.status.idle": "2022-11-19T13:15:25.534445Z",
     "shell.execute_reply": "2022-11-19T13:15:25.533304Z"
    },
    "papermill": {
     "duration": 0.031477,
     "end_time": "2022-11-19T13:15:25.536812",
     "exception": false,
     "start_time": "2022-11-19T13:15:25.505335",
     "status": "completed"
    },
    "tags": []
   },
   "outputs": [
    {
     "name": "stdout",
     "output_type": "stream",
     "text": [
      "US        54504\n",
      "France    22093\n",
      "          ...  \n",
      "China         1\n",
      "Egypt         1\n",
      "Name: country, Length: 43, dtype: int64\n"
     ]
    },
    {
     "data": {
      "application/javascript": [
       "parent.postMessage({\"jupyterEvent\": \"custom.exercise_interaction\", \"data\": {\"outcomeType\": 1, \"valueTowardsCompletion\": 0.14285714285714285, \"interactionType\": 1, \"questionType\": 1, \"questionId\": \"3_ReviewsPerCountry\", \"learnToolsVersion\": \"0.3.4\", \"failureMessage\": \"\", \"exceptionClass\": \"\", \"trace\": \"\"}}, \"*\")"
      ],
      "text/plain": [
       "<IPython.core.display.Javascript object>"
      ]
     },
     "metadata": {},
     "output_type": "display_data"
    },
    {
     "data": {
      "text/markdown": [
       "<span style=\"color:#33cc33\">Correct</span>"
      ],
      "text/plain": [
       "Correct"
      ]
     },
     "metadata": {},
     "output_type": "display_data"
    }
   ],
   "source": [
    "reviews_per_country = reviews.country.value_counts()\n",
    "print(reviews_per_country)\n",
    "\n",
    "# Check your answer\n",
    "q3.check()"
   ]
  },
  {
   "cell_type": "code",
   "execution_count": 7,
   "id": "8af60a15",
   "metadata": {
    "execution": {
     "iopub.execute_input": "2022-11-19T13:15:25.553772Z",
     "iopub.status.busy": "2022-11-19T13:15:25.553380Z",
     "iopub.status.idle": "2022-11-19T13:15:25.557315Z",
     "shell.execute_reply": "2022-11-19T13:15:25.556402Z"
    },
    "papermill": {
     "duration": 0.015436,
     "end_time": "2022-11-19T13:15:25.559672",
     "exception": false,
     "start_time": "2022-11-19T13:15:25.544236",
     "status": "completed"
    },
    "tags": []
   },
   "outputs": [],
   "source": [
    "#q3.hint()\n",
    "#q3.solution()"
   ]
  },
  {
   "cell_type": "markdown",
   "id": "8b83ba44",
   "metadata": {
    "papermill": {
     "duration": 0.007018,
     "end_time": "2022-11-19T13:15:25.574270",
     "exception": false,
     "start_time": "2022-11-19T13:15:25.567252",
     "status": "completed"
    },
    "tags": []
   },
   "source": [
    "## 4.\n",
    "Create variable `centered_price` containing a version of the `price` column with the mean price subtracted.\n",
    "\n",
    "(Note: this 'centering' transformation is a common preprocessing step before applying various machine learning algorithms.) "
   ]
  },
  {
   "cell_type": "code",
   "execution_count": 8,
   "id": "2e032140",
   "metadata": {
    "execution": {
     "iopub.execute_input": "2022-11-19T13:15:25.590704Z",
     "iopub.status.busy": "2022-11-19T13:15:25.590278Z",
     "iopub.status.idle": "2022-11-19T13:15:25.602705Z",
     "shell.execute_reply": "2022-11-19T13:15:25.601610Z"
    },
    "papermill": {
     "duration": 0.023262,
     "end_time": "2022-11-19T13:15:25.604911",
     "exception": false,
     "start_time": "2022-11-19T13:15:25.581649",
     "status": "completed"
    },
    "tags": []
   },
   "outputs": [
    {
     "data": {
      "application/javascript": [
       "parent.postMessage({\"jupyterEvent\": \"custom.exercise_interaction\", \"data\": {\"outcomeType\": 1, \"valueTowardsCompletion\": 0.14285714285714285, \"interactionType\": 1, \"questionType\": 1, \"questionId\": \"4_CenteredPrice\", \"learnToolsVersion\": \"0.3.4\", \"failureMessage\": \"\", \"exceptionClass\": \"\", \"trace\": \"\"}}, \"*\")"
      ],
      "text/plain": [
       "<IPython.core.display.Javascript object>"
      ]
     },
     "metadata": {},
     "output_type": "display_data"
    },
    {
     "data": {
      "text/markdown": [
       "<span style=\"color:#33cc33\">Correct</span>"
      ],
      "text/plain": [
       "Correct"
      ]
     },
     "metadata": {},
     "output_type": "display_data"
    }
   ],
   "source": [
    "centered_price = reviews.price - reviews.price.mean()\n",
    "\n",
    "# Check your answer\n",
    "q4.check()"
   ]
  },
  {
   "cell_type": "code",
   "execution_count": 9,
   "id": "3f8e0719",
   "metadata": {
    "execution": {
     "iopub.execute_input": "2022-11-19T13:15:25.622286Z",
     "iopub.status.busy": "2022-11-19T13:15:25.621854Z",
     "iopub.status.idle": "2022-11-19T13:15:25.626560Z",
     "shell.execute_reply": "2022-11-19T13:15:25.625439Z"
    },
    "papermill": {
     "duration": 0.016117,
     "end_time": "2022-11-19T13:15:25.628979",
     "exception": false,
     "start_time": "2022-11-19T13:15:25.612862",
     "status": "completed"
    },
    "tags": []
   },
   "outputs": [],
   "source": [
    "#q4.hint()\n",
    "#q4.solution()"
   ]
  },
  {
   "cell_type": "markdown",
   "id": "67b90c1f",
   "metadata": {
    "papermill": {
     "duration": 0.007246,
     "end_time": "2022-11-19T13:15:25.643899",
     "exception": false,
     "start_time": "2022-11-19T13:15:25.636653",
     "status": "completed"
    },
    "tags": []
   },
   "source": [
    "## 5.\n",
    "I'm an economical wine buyer. Which wine is the \"best bargain\"? Create a variable `bargain_wine` with the title of the wine with the highest points-to-price ratio in the dataset."
   ]
  },
  {
   "cell_type": "code",
   "execution_count": 10,
   "id": "b3924b03",
   "metadata": {
    "execution": {
     "iopub.execute_input": "2022-11-19T13:15:25.660757Z",
     "iopub.status.busy": "2022-11-19T13:15:25.660334Z",
     "iopub.status.idle": "2022-11-19T13:15:25.675261Z",
     "shell.execute_reply": "2022-11-19T13:15:25.674079Z"
    },
    "papermill": {
     "duration": 0.02613,
     "end_time": "2022-11-19T13:15:25.677658",
     "exception": false,
     "start_time": "2022-11-19T13:15:25.651528",
     "status": "completed"
    },
    "tags": []
   },
   "outputs": [
    {
     "data": {
      "application/javascript": [
       "parent.postMessage({\"jupyterEvent\": \"custom.exercise_interaction\", \"data\": {\"outcomeType\": 1, \"valueTowardsCompletion\": 0.14285714285714285, \"interactionType\": 1, \"questionType\": 2, \"questionId\": \"5_BargainWine\", \"learnToolsVersion\": \"0.3.4\", \"failureMessage\": \"\", \"exceptionClass\": \"\", \"trace\": \"\"}}, \"*\")"
      ],
      "text/plain": [
       "<IPython.core.display.Javascript object>"
      ]
     },
     "metadata": {},
     "output_type": "display_data"
    },
    {
     "data": {
      "text/markdown": [
       "<span style=\"color:#33cc33\">Correct</span>"
      ],
      "text/plain": [
       "Correct"
      ]
     },
     "metadata": {},
     "output_type": "display_data"
    }
   ],
   "source": [
    "bargain = (reviews.points/reviews.price).idxmax()\n",
    "bargain_wine = reviews.loc[bargain, 'title']\n",
    "\n",
    "# Check your answer\n",
    "q5.check()"
   ]
  },
  {
   "cell_type": "code",
   "execution_count": 11,
   "id": "4b01882a",
   "metadata": {
    "execution": {
     "iopub.execute_input": "2022-11-19T13:15:25.695345Z",
     "iopub.status.busy": "2022-11-19T13:15:25.694926Z",
     "iopub.status.idle": "2022-11-19T13:15:25.699160Z",
     "shell.execute_reply": "2022-11-19T13:15:25.698005Z"
    },
    "papermill": {
     "duration": 0.01594,
     "end_time": "2022-11-19T13:15:25.701534",
     "exception": false,
     "start_time": "2022-11-19T13:15:25.685594",
     "status": "completed"
    },
    "tags": []
   },
   "outputs": [],
   "source": [
    "#q5.hint()\n",
    "#q5.solution()"
   ]
  },
  {
   "cell_type": "markdown",
   "id": "dbec7015",
   "metadata": {
    "papermill": {
     "duration": 0.007444,
     "end_time": "2022-11-19T13:15:25.716832",
     "exception": false,
     "start_time": "2022-11-19T13:15:25.709388",
     "status": "completed"
    },
    "tags": []
   },
   "source": [
    "## 6.\n",
    "There are only so many words you can use when describing a bottle of wine. Is a wine more likely to be \"tropical\" or \"fruity\"? Create a Series `descriptor_counts` counting how many times each of these two words appears in the `description` column in the dataset. (For simplicity, let's ignore the capitalized versions of these words.)"
   ]
  },
  {
   "cell_type": "code",
   "execution_count": 12,
   "id": "ef528a42",
   "metadata": {
    "execution": {
     "iopub.execute_input": "2022-11-19T13:15:25.734155Z",
     "iopub.status.busy": "2022-11-19T13:15:25.733732Z",
     "iopub.status.idle": "2022-11-19T13:15:25.742125Z",
     "shell.execute_reply": "2022-11-19T13:15:25.741025Z"
    },
    "papermill": {
     "duration": 0.019775,
     "end_time": "2022-11-19T13:15:25.744273",
     "exception": false,
     "start_time": "2022-11-19T13:15:25.724498",
     "status": "completed"
    },
    "tags": []
   },
   "outputs": [
    {
     "data": {
      "application/javascript": [
       "parent.postMessage({\"jupyterEvent\": \"custom.exercise_interaction\", \"data\": {\"outcomeType\": 4, \"interactionType\": 1, \"questionType\": 1, \"questionId\": \"6_DescriptorCounts\", \"learnToolsVersion\": \"0.3.4\", \"valueTowardsCompletion\": 0.0, \"failureMessage\": \"\", \"exceptionClass\": \"\", \"trace\": \"\"}}, \"*\")"
      ],
      "text/plain": [
       "<IPython.core.display.Javascript object>"
      ]
     },
     "metadata": {},
     "output_type": "display_data"
    },
    {
     "data": {
      "text/markdown": [
       "<span style=\"color:#ccaa33\">Check:</span> When you've updated the starter code, `check()` will tell you whether your code is correct. You need to update the code that creates variable `descriptor_counts`"
      ],
      "text/plain": [
       "Check: When you've updated the starter code, `check()` will tell you whether your code is correct. You need to update the code that creates variable `descriptor_counts`"
      ]
     },
     "metadata": {},
     "output_type": "display_data"
    }
   ],
   "source": [
    "descriptor_counts = ____\n",
    "\n",
    "# Check your answer\n",
    "q6.check()"
   ]
  },
  {
   "cell_type": "code",
   "execution_count": 13,
   "id": "c271a937",
   "metadata": {
    "execution": {
     "iopub.execute_input": "2022-11-19T13:15:25.762267Z",
     "iopub.status.busy": "2022-11-19T13:15:25.761709Z",
     "iopub.status.idle": "2022-11-19T13:15:25.766254Z",
     "shell.execute_reply": "2022-11-19T13:15:25.765178Z"
    },
    "papermill": {
     "duration": 0.016241,
     "end_time": "2022-11-19T13:15:25.768602",
     "exception": false,
     "start_time": "2022-11-19T13:15:25.752361",
     "status": "completed"
    },
    "tags": []
   },
   "outputs": [],
   "source": [
    "#q6.hint()\n",
    "#q6.solution()"
   ]
  },
  {
   "cell_type": "markdown",
   "id": "5ec2b8ee",
   "metadata": {
    "papermill": {
     "duration": 0.008134,
     "end_time": "2022-11-19T13:15:25.784895",
     "exception": false,
     "start_time": "2022-11-19T13:15:25.776761",
     "status": "completed"
    },
    "tags": []
   },
   "source": [
    "## 7.\n",
    "We'd like to host these wine reviews on our website, but a rating system ranging from 80 to 100 points is too hard to understand - we'd like to translate them into simple star ratings. A score of 95 or higher counts as 3 stars, a score of at least 85 but less than 95 is 2 stars. Any other score is 1 star.\n",
    "\n",
    "Also, the Canadian Vintners Association bought a lot of ads on the site, so any wines from Canada should automatically get 3 stars, regardless of points.\n",
    "\n",
    "Create a series `star_ratings` with the number of stars corresponding to each review in the dataset."
   ]
  },
  {
   "cell_type": "code",
   "execution_count": 14,
   "id": "dd08aa01",
   "metadata": {
    "execution": {
     "iopub.execute_input": "2022-11-19T13:15:25.802699Z",
     "iopub.status.busy": "2022-11-19T13:15:25.802303Z",
     "iopub.status.idle": "2022-11-19T13:15:25.810658Z",
     "shell.execute_reply": "2022-11-19T13:15:25.809572Z"
    },
    "papermill": {
     "duration": 0.020157,
     "end_time": "2022-11-19T13:15:25.813155",
     "exception": false,
     "start_time": "2022-11-19T13:15:25.792998",
     "status": "completed"
    },
    "tags": []
   },
   "outputs": [
    {
     "data": {
      "application/javascript": [
       "parent.postMessage({\"jupyterEvent\": \"custom.exercise_interaction\", \"data\": {\"outcomeType\": 4, \"interactionType\": 1, \"questionType\": 1, \"questionId\": \"7_StarRatings\", \"learnToolsVersion\": \"0.3.4\", \"valueTowardsCompletion\": 0.0, \"failureMessage\": \"\", \"exceptionClass\": \"\", \"trace\": \"\"}}, \"*\")"
      ],
      "text/plain": [
       "<IPython.core.display.Javascript object>"
      ]
     },
     "metadata": {},
     "output_type": "display_data"
    },
    {
     "data": {
      "text/markdown": [
       "<span style=\"color:#ccaa33\">Check:</span> When you've updated the starter code, `check()` will tell you whether your code is correct. You need to update the code that creates variable `star_ratings`"
      ],
      "text/plain": [
       "Check: When you've updated the starter code, `check()` will tell you whether your code is correct. You need to update the code that creates variable `star_ratings`"
      ]
     },
     "metadata": {},
     "output_type": "display_data"
    }
   ],
   "source": [
    "star_ratings = ____\n",
    "\n",
    "# Check your answer\n",
    "q7.check()"
   ]
  },
  {
   "cell_type": "code",
   "execution_count": 15,
   "id": "256485af",
   "metadata": {
    "execution": {
     "iopub.execute_input": "2022-11-19T13:15:25.831819Z",
     "iopub.status.busy": "2022-11-19T13:15:25.831446Z",
     "iopub.status.idle": "2022-11-19T13:15:25.835069Z",
     "shell.execute_reply": "2022-11-19T13:15:25.834197Z"
    },
    "papermill": {
     "duration": 0.015607,
     "end_time": "2022-11-19T13:15:25.837172",
     "exception": false,
     "start_time": "2022-11-19T13:15:25.821565",
     "status": "completed"
    },
    "tags": []
   },
   "outputs": [],
   "source": [
    "#q7.hint()\n",
    "#q7.solution()"
   ]
  },
  {
   "cell_type": "markdown",
   "id": "94558701",
   "metadata": {
    "papermill": {
     "duration": 0.007787,
     "end_time": "2022-11-19T13:15:25.853295",
     "exception": false,
     "start_time": "2022-11-19T13:15:25.845508",
     "status": "completed"
    },
    "tags": []
   },
   "source": [
    "# Keep going\n",
    "Continue to **[grouping and sorting](https://www.kaggle.com/residentmario/grouping-and-sorting)**."
   ]
  },
  {
   "cell_type": "markdown",
   "id": "16d017f2",
   "metadata": {
    "papermill": {
     "duration": 0.007781,
     "end_time": "2022-11-19T13:15:25.869189",
     "exception": false,
     "start_time": "2022-11-19T13:15:25.861408",
     "status": "completed"
    },
    "tags": []
   },
   "source": [
    "---\n",
    "\n",
    "\n",
    "\n",
    "\n",
    "*Have questions or comments? Visit the [course discussion forum](https://www.kaggle.com/learn/pandas/discussion) to chat with other learners.*"
   ]
  }
 ],
 "metadata": {
  "kernelspec": {
   "display_name": "Python 3",
   "language": "python",
   "name": "python3"
  },
  "language_info": {
   "codemirror_mode": {
    "name": "ipython",
    "version": 3
   },
   "file_extension": ".py",
   "mimetype": "text/x-python",
   "name": "python",
   "nbconvert_exporter": "python",
   "pygments_lexer": "ipython3",
   "version": "3.7.12"
  },
  "papermill": {
   "default_parameters": {},
   "duration": 17.088579,
   "end_time": "2022-11-19T13:15:26.498027",
   "environment_variables": {},
   "exception": null,
   "input_path": "__notebook__.ipynb",
   "output_path": "__notebook__.ipynb",
   "parameters": {},
   "start_time": "2022-11-19T13:15:09.409448",
   "version": "2.3.4"
  }
 },
 "nbformat": 4,
 "nbformat_minor": 5
}
